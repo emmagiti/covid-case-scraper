{
 "cells": [
  {
   "cell_type": "code",
   "execution_count": 68,
   "metadata": {},
   "outputs": [
    {
     "name": "stdout",
     "output_type": "stream",
     "text": [
      "Requirement already satisfied: requests in c:\\users\\user\\anaconda3\\lib\\site-packages (2.24.0)\n",
      "Requirement already satisfied: chardet<4,>=3.0.2 in c:\\users\\user\\anaconda3\\lib\\site-packages (from requests) (3.0.4)\n",
      "Requirement already satisfied: urllib3!=1.25.0,!=1.25.1,<1.26,>=1.21.1 in c:\\users\\user\\anaconda3\\lib\\site-packages (from requests) (1.25.11)\n",
      "Requirement already satisfied: idna<3,>=2.5 in c:\\users\\user\\anaconda3\\lib\\site-packages (from requests) (2.10)\n",
      "Requirement already satisfied: certifi>=2017.4.17 in c:\\users\\user\\anaconda3\\lib\\site-packages (from requests) (2020.6.20)\n",
      "Note: you may need to restart the kernel to use updated packages.\n"
     ]
    }
   ],
   "source": [
    "pip install requests"
   ]
  },
  {
   "cell_type": "code",
   "execution_count": 69,
   "metadata": {},
   "outputs": [
    {
     "name": "stdout",
     "output_type": "stream",
     "text": [
      "Requirement already satisfied: beautifulsoup4 in c:\\users\\user\\anaconda3\\lib\\site-packages (4.9.3)Note: you may need to restart the kernel to use updated packages.\n",
      "Requirement already satisfied: soupsieve>1.2; python_version >= \"3.0\" in c:\\users\\user\\anaconda3\\lib\\site-packages (from beautifulsoup4) (2.0.1)\n",
      "\n"
     ]
    }
   ],
   "source": [
    "pip install beautifulsoup4"
   ]
  },
  {
   "cell_type": "code",
   "execution_count": 81,
   "metadata": {},
   "outputs": [
    {
     "name": "stdout",
     "output_type": "stream",
     "text": [
      "Requirement already satisfied: pillow in c:\\users\\user\\anaconda3\\lib\\site-packages (8.0.1)\n",
      "Note: you may need to restart the kernel to use updated packages.\n"
     ]
    }
   ],
   "source": [
    "pip install pillow"
   ]
  },
  {
   "cell_type": "code",
   "execution_count": null,
   "metadata": {},
   "outputs": [
    {
     "name": "stderr",
     "output_type": "stream",
     "text": [
      "Exception in Tkinter callback\n",
      "Traceback (most recent call last):\n",
      "  File \"C:\\Users\\USER\\anaconda3\\lib\\tkinter\\__init__.py\", line 1883, in __call__\n",
      "    return self.func(*args)\n",
      "  File \"<ipython-input-3-042ea57ea7b7>\", line 37, in get_country_data\n",
      "    text = block.find(\"h1\", class_=None).get_text()\n",
      "AttributeError: 'NoneType' object has no attribute 'get_text'\n",
      "Exception in Tkinter callback\n",
      "Traceback (most recent call last):\n",
      "  File \"C:\\Users\\USER\\anaconda3\\lib\\tkinter\\__init__.py\", line 1883, in __call__\n",
      "    return self.func(*args)\n",
      "  File \"<ipython-input-3-042ea57ea7b7>\", line 33, in get_country_data\n",
      "    info_div = bs.find(\"div\", class_=\"content-inner\").findAll(\"div\", id =\"maincounter-wrap\")\n",
      "AttributeError: 'NoneType' object has no attribute 'findAll'\n",
      "Exception in Tkinter callback\n",
      "Traceback (most recent call last):\n",
      "  File \"C:\\Users\\USER\\anaconda3\\lib\\tkinter\\__init__.py\", line 1883, in __call__\n",
      "    return self.func(*args)\n",
      "  File \"<ipython-input-3-042ea57ea7b7>\", line 37, in get_country_data\n",
      "    text = block.find(\"h1\", class_=None).get_text()\n",
      "AttributeError: 'NoneType' object has no attribute 'get_text'\n",
      "Exception in Tkinter callback\n",
      "Traceback (most recent call last):\n",
      "  File \"C:\\Users\\USER\\anaconda3\\lib\\tkinter\\__init__.py\", line 1883, in __call__\n",
      "    return self.func(*args)\n",
      "  File \"<ipython-input-3-042ea57ea7b7>\", line 33, in get_country_data\n",
      "    info_div = bs.find(\"div\", class_=\"content-inner\").findAll(\"div\", id =\"maincounter-wrap\")\n",
      "AttributeError: 'NoneType' object has no attribute 'findAll'\n",
      "Exception in Tkinter callback\n",
      "Traceback (most recent call last):\n",
      "  File \"C:\\Users\\USER\\anaconda3\\lib\\tkinter\\__init__.py\", line 1883, in __call__\n",
      "    return self.func(*args)\n",
      "  File \"<ipython-input-3-042ea57ea7b7>\", line 37, in get_country_data\n",
      "    text = block.find(\"h1\", class_=None).get_text()\n",
      "AttributeError: 'NoneType' object has no attribute 'get_text'\n",
      "Exception in Tkinter callback\n",
      "Traceback (most recent call last):\n",
      "  File \"C:\\Users\\USER\\anaconda3\\lib\\tkinter\\__init__.py\", line 1883, in __call__\n",
      "    return self.func(*args)\n",
      "  File \"<ipython-input-3-042ea57ea7b7>\", line 37, in get_country_data\n",
      "    text = block.find(\"h1\", class_=None).get_text()\n",
      "AttributeError: 'NoneType' object has no attribute 'get_text'\n",
      "Exception in Tkinter callback\n",
      "Traceback (most recent call last):\n",
      "  File \"C:\\Users\\USER\\anaconda3\\lib\\tkinter\\__init__.py\", line 1883, in __call__\n",
      "    return self.func(*args)\n",
      "  File \"<ipython-input-3-042ea57ea7b7>\", line 37, in get_country_data\n",
      "    text = block.find(\"h1\", class_=None).get_text()\n",
      "AttributeError: 'NoneType' object has no attribute 'get_text'\n",
      "Exception in Tkinter callback\n",
      "Traceback (most recent call last):\n",
      "  File \"C:\\Users\\USER\\anaconda3\\lib\\tkinter\\__init__.py\", line 1883, in __call__\n",
      "    return self.func(*args)\n",
      "  File \"<ipython-input-3-042ea57ea7b7>\", line 37, in get_country_data\n",
      "    text = block.find(\"h1\", class_=None).get_text()\n",
      "AttributeError: 'NoneType' object has no attribute 'get_text'\n",
      "Exception in Tkinter callback\n",
      "Traceback (most recent call last):\n",
      "  File \"C:\\Users\\USER\\anaconda3\\lib\\tkinter\\__init__.py\", line 1883, in __call__\n",
      "    return self.func(*args)\n",
      "  File \"<ipython-input-3-042ea57ea7b7>\", line 37, in get_country_data\n",
      "    text = block.find(\"h1\", class_=None).get_text()\n",
      "AttributeError: 'NoneType' object has no attribute 'get_text'\n",
      "Exception in Tkinter callback\n",
      "Traceback (most recent call last):\n",
      "  File \"C:\\Users\\USER\\anaconda3\\lib\\tkinter\\__init__.py\", line 1883, in __call__\n",
      "    return self.func(*args)\n",
      "  File \"<ipython-input-3-042ea57ea7b7>\", line 37, in get_country_data\n",
      "    text = block.find(\"h1\", class_=None).get_text()\n",
      "AttributeError: 'NoneType' object has no attribute 'get_text'\n"
     ]
    }
   ],
   "source": [
    "import requests\n",
    "import bs4\n",
    "\n",
    "import tkinter as tk\n",
    "\n",
    "\n",
    "def get_html_data(url):\n",
    "    data = requests.get(url)\n",
    "    return data\n",
    "\n",
    "def get_covid_data():\n",
    "    url = \"https://www.worldometers.info/coronavirus/\"\n",
    "    html_data = get_html_data(url)\n",
    "    bs = bs4.BeautifulSoup(html_data.text, 'html.parser')\n",
    "    info_div = bs.find(\"div\", class_=\"content-inner\").findAll(\"div\", id =\"maincounter-wrap\")\n",
    "    all_data=\"\"\n",
    "    \n",
    "    for block in info_div:\n",
    "        text = block.find(\"h1\", class_=None).get_text()\n",
    "        \n",
    "        count = block.find(\"span\", class_=None).get_text()\n",
    "        \n",
    "        all_data = all_data + text + \" \" + count + \"\\n\"\n",
    "        \n",
    "        \n",
    "    return all_data\n",
    "\n",
    "def get_country_data():\n",
    "    name = textfield.get()\n",
    "    url = \"https://www.worldometers.info/coronavirus/country/\"+name\n",
    "    html_data = get_html_data(url)\n",
    "    bs = bs4.BeautifulSoup(html_data.text, 'html.parser')\n",
    "    info_div = bs.find(\"div\", class_=\"content-inner\").findAll(\"div\", id =\"maincounter-wrap\")\n",
    "    all_data=\"\"\n",
    "    \n",
    "    for block in info_div:\n",
    "        text = block.find(\"h1\", class_=None).get_text()\n",
    "        \n",
    "        count = block.find(\"span\", class_=None).get_text()\n",
    "        \n",
    "        all_data = all_data + text + \" \" + count + \"\\n\"\n",
    "        \n",
    "        \n",
    "    mainlabel['text']=all_data\n",
    "\n",
    "def reload():\n",
    "    new_data = get_covid_data()\n",
    "    mainlabel['text']=new_data\n",
    "    \n",
    "    \n",
    "get_covid_data()\n",
    "\n",
    "root = tk.Tk()\n",
    "root.geometry(\"900x700\")\n",
    "root.title(\"Covid Tracker\")\n",
    "f = (\"Arial\", 25, \"bold\")\n",
    "\n",
    "\n",
    "banner = tk.PhotoImage(file=\"covid.png\")\n",
    "bannerlabel = tk.Label(root, image=banner)\n",
    "bannerlabel.pack()\n",
    "\n",
    "textfield = tk.Entry(root, width = 50)\n",
    "textfield.pack()\n",
    "\n",
    "mainlabel = tk.Label(root, text=get_covid_data(), font=f)\n",
    "mainlabel.pack()\n",
    "\n",
    "gbtn = tk.Button(root, text=\"Get Data\", font=f, relief='solid', command=get_country_data)\n",
    "gbtn.pack()\n",
    "\n",
    "rbtn = tk.Button(root, text=\"Reload\", font=f, relief='solid', command=reload)\n",
    "rbtn.pack()\n",
    "\n",
    "root.mainloop()\n"
   ]
  },
  {
   "cell_type": "code",
   "execution_count": null,
   "metadata": {},
   "outputs": [],
   "source": [
    "root = tk.Tk()\n",
    "root.geometry(\"900x700\")\n",
    "root.title(\"Covid Tracker\")\n",
    "f = (\"Arial\", 25, \"bold\")\n",
    "\n",
    "\n",
    "banner = tk.PhotoImage(file='covid.png')\n",
    "bannerlabel = tk.Label(root, image=banner)\n",
    "bannerlabel.pack()\n",
    "\n",
    "textfield = tk.Entry(root, width_=_50)\n",
    "textfield.pack()\n",
    "\n",
    "mainlabel = tk.Label(root, text=get_covid_data(), font=f)\n",
    "mainlabel.pack()\n",
    "\n",
    "gbtn = tk.Button(root, text=\"Get Data\", font=f, relief='solid', command=get_country_data)\n",
    "gbtn.pack()\n",
    "\n",
    "rbtn = tk.Button(root, text=\"Reload\", font=f, relief='solid', command=reload)\n",
    "rbtn.pack()\n",
    "\n",
    "root.mainloop()"
   ]
  },
  {
   "cell_type": "code",
   "execution_count": null,
   "metadata": {},
   "outputs": [],
   "source": []
  },
  {
   "cell_type": "code",
   "execution_count": null,
   "metadata": {},
   "outputs": [],
   "source": []
  }
 ],
 "metadata": {
  "kernelspec": {
   "display_name": "Python 3",
   "language": "python",
   "name": "python3"
  },
  "language_info": {
   "codemirror_mode": {
    "name": "ipython",
    "version": 3
   },
   "file_extension": ".py",
   "mimetype": "text/x-python",
   "name": "python",
   "nbconvert_exporter": "python",
   "pygments_lexer": "ipython3",
   "version": "3.8.5"
  }
 },
 "nbformat": 4,
 "nbformat_minor": 4
}
